{
 "cells": [
  {
   "cell_type": "markdown",
   "metadata": {},
   "source": [
    "# Python講習会"
   ]
  },
  {
   "cell_type": "markdown",
   "metadata": {},
   "source": [
    "## ゲームを作る\n",
    "サイコロ，カード，コインを用いたゲームを作成する"
   ]
  },
  {
   "cell_type": "markdown",
   "metadata": {},
   "source": [
    "## 機械学習入門"
   ]
  },
  {
   "cell_type": "code",
   "execution_count": 3,
   "metadata": {},
   "outputs": [
    {
     "data": {
      "image/png": "[encoded data removed]",
      "text/plain": [
       "<matplotlib.figure.Figure at 0x1094370f0>"
      ]
     },
     "metadata": {},
     "output_type": "display_data"
    }
   ],
   "source": [
    "from sklearn import datasets\n",
    "from matplotlib import pyplot as plt, cm\n",
    "\n",
    "digits = datasets.load_digits()\n",
    "data = digits.images[0]\n",
    "plt.imshow(data.reshape(8, 8), cmap=cm.gray_r, interpolation='nearest')\n",
    "plt.show()"
   ]
  },
  {
   "cell_type": "code",
   "execution_count": 7,
   "metadata": {},
   "outputs": [
    {
     "name": "stdout",
     "output_type": "stream",
     "text": [
      "分析機の情報 =  SVC(C=1.0, cache_size=200, class_weight=None, coef0=0.0,\n",
      "  decision_function_shape='ovr', degree=3, gamma=0.001, kernel='rbf',\n",
      "  max_iter=-1, probability=False, random_state=None, shrinking=True,\n",
      "  tol=0.001, verbose=False)\n",
      "正解率 0.988888888889\n",
      "レポート = \n",
      "              precision    recall  f1-score   support\n",
      "\n",
      "          0       1.00      1.00      1.00        39\n",
      "          1       0.96      1.00      0.98        48\n",
      "          2       1.00      1.00      1.00        48\n",
      "          3       1.00      0.98      0.99        60\n",
      "          4       1.00      1.00      1.00        51\n",
      "          5       0.97      1.00      0.99        39\n",
      "          6       1.00      0.98      0.99        45\n",
      "          7       1.00      1.00      1.00        35\n",
      "          8       0.98      0.93      0.96        46\n",
      "          9       0.97      1.00      0.99        39\n",
      "\n",
      "avg / total       0.99      0.99      0.99       450\n",
      "\n"
     ]
    }
   ],
   "source": [
    "from sklearn import datasets, cross_validation, svm, metrics\n",
    "\n",
    "digits = datasets.load_digits()\n",
    "\n",
    "data_train, data_test, lavel_train, lavel_test = cross_validation.train_test_split(digits.data, digits.target)\n",
    "\n",
    "clf = svm.SVC(gamma = 0.001)\n",
    "clf.fit(data_train, lavel_train)\n",
    "\n",
    "predict = clf.predict(data_test)\n",
    "\n",
    "ac_score = metrics.accuracy_score(lavel_test, predict)\n",
    "cl_report = metrics.classification_report(lavel_test, predict)\n",
    "\n",
    "print(\"分析機の情報 = \", clf)\n",
    "print(\"正解率\", ac_score)\n",
    "print(\"レポート = \\n\", cl_report)"
   ]
  },
  {
   "cell_type": "markdown",
   "metadata": {},
   "source": [
    "### 画像を読み込んで表示する．\n"
   ]
  },
  {
   "cell_type": "code",
   "execution_count": 12,
   "metadata": {},
   "outputs": [
    {
     "data": {
      "text/plain": [
       "<matplotlib.image.AxesImage at 0x11115e320>"
      ]
     },
     "execution_count": 12,
     "metadata": {},
     "output_type": "execute_result"
    },
    {
     "data": {
      "image/png": "[encoded data removed]",
      "text/plain": [
       "<matplotlib.figure.Figure at 0x111662470>"
      ]
     },
     "metadata": {},
     "output_type": "display_data"
    }
   ],
   "source": [
    "%matplotlib inline\n",
    "from PIL import Image\n",
    "import matplotlib.pyplot as plt\n",
    "import numpy as np\n",
    "\n",
    "image = Image.open(\"3.png\", \"r\")\n",
    "plt.imshow(np.array(image))\n"
   ]
  }
 ],
 "metadata": {
  "kernelspec": {
   "display_name": "Python [conda env:anaconda3-4.2.0]",
   "language": "python",
   "name": "conda-env-anaconda3-4.2.0-py"
  },
  "language_info": {
   "codemirror_mode": {
    "name": "ipython",
    "version": 3
   },
   "file_extension": ".py",
   "mimetype": "text/x-python",
   "name": "python",
   "nbconvert_exporter": "python",
   "pygments_lexer": "ipython3",
   "version": "3.5.4"
  }
 },
 "nbformat": 4,
 "nbformat_minor": 2
}
