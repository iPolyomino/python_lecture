{
 "cells": [
  {
   "cell_type": "markdown",
   "metadata": {},
   "source": [
    "# Python講習会"
   ]
  },
  {
   "cell_type": "markdown",
   "metadata": {},
   "source": [
    "## 関数を使う\n",
    "p93"
   ]
  },
  {
   "cell_type": "code",
   "execution_count": 3,
   "metadata": {},
   "outputs": [
    {
     "data": {
      "text/plain": [
       "499"
      ]
     },
     "execution_count": 3,
     "metadata": {},
     "output_type": "execute_result"
    }
   ],
   "source": [
    "the_list = [101, 123, 152, 123]\n",
    "summary = 0\n",
    "\n",
    "for item in the_list:\n",
    "    summary = summary + item\n",
    "\n",
    "summary"
   ]
  },
  {
   "cell_type": "code",
   "execution_count": 4,
   "metadata": {},
   "outputs": [
    {
     "data": {
      "text/plain": [
       "499"
      ]
     },
     "execution_count": 4,
     "metadata": {},
     "output_type": "execute_result"
    }
   ],
   "source": [
    "the_list = [101, 123, 152, 123]\n",
    "sum(the_list)"
   ]
  },
  {
   "cell_type": "markdown",
   "metadata": {},
   "source": [
    "## 関数を定義する\n",
    "\n",
    "p.93\n",
    "\n",
    "**関数を作ったのち，呼び出す必要があります．**"
   ]
  },
  {
   "cell_type": "code",
   "execution_count": 1,
   "metadata": {},
   "outputs": [
    {
     "name": "stdout",
     "output_type": "stream",
     "text": [
      "好きな数字を入力してください．123\n",
      "あなたの運命の戦車は\n",
      "M4シャーマン\n"
     ]
    }
   ],
   "source": [
    "def destiny_tank():\n",
    "    tanks = [\"IV号戦車D型\", \"III号戦車J型\", \"チャーチルMk.VII\", \"M4シャーマン\", \"P40重戦車\", \"T-34/76\"]\n",
    "    num = input(\"好きな数字を入力してください．\")\n",
    "    idx = int(num) % len(tanks)\n",
    "    print(\"あなたの運命の戦車は\")\n",
    "    print(tanks[idx])\n",
    "    \n",
    "destiny_tank()"
   ]
  },
  {
   "cell_type": "markdown",
   "metadata": {},
   "source": [
    "## 引数を定義する\n",
    "p.95"
   ]
  },
  {
   "cell_type": "code",
   "execution_count": 5,
   "metadata": {},
   "outputs": [
    {
     "name": "stdout",
     "output_type": "stream",
     "text": [
      "好きな数字を入力してください．123\n",
      "あなたの運命の戦車は\n",
      "M4シャーマン\n"
     ]
    }
   ],
   "source": [
    "def destiny_tank2(num):\n",
    "    tanks = [\"IV号戦車D型\", \"III号戦車J型\", \"チャーチルMk.VII\", \"M4シャーマン\", \"P40重戦車\", \"T-34/76\"]\n",
    "    idx = num % len(tanks)\n",
    "    print(\"あなたの運命の戦車は\")\n",
    "    print(tanks[idx])\n",
    "    \n",
    "numstr = input(\"好きな数字を入力してください．\")\n",
    "num = int(numstr)\n",
    "destiny_tank2(num)"
   ]
  },
  {
   "cell_type": "markdown",
   "metadata": {},
   "source": [
    "destiny_tank2(num)の num は引数（ひきすう） といって関数内で変数として利用することができます．"
   ]
  },
  {
   "cell_type": "markdown",
   "metadata": {},
   "source": [
    "## 関数の戻り値\n",
    "p.96"
   ]
  },
  {
   "cell_type": "code",
   "execution_count": 7,
   "metadata": {},
   "outputs": [
    {
     "name": "stdout",
     "output_type": "stream",
     "text": [
      "今日あなたが乗るべ幸運の戦車は チャーチルMk.VII です\n"
     ]
    }
   ],
   "source": [
    "from random import randint\n",
    "\n",
    "def destiny_tank3(num):\n",
    "    tanks = [\"IV号戦車D型\", \"III号戦車J型\", \"チャーチルMk.VII\", \"M4シャーマン\", \"P40重戦車\", \"T-34/76\"]\n",
    "    idx = num % len(tanks)\n",
    "    return tanks[idx]\n",
    "\n",
    "num = randint(0, 10)\n",
    "tank = destiny_tank3(num)\n",
    "print(\"今日あなたが乗るべ幸運の戦車は\", tank, \"です\")"
   ]
  },
  {
   "cell_type": "markdown",
   "metadata": {},
   "source": [
    "#### 関数を作ると何が良いのか？"
   ]
  },
  {
   "cell_type": "code",
   "execution_count": 8,
   "metadata": {},
   "outputs": [
    {
     "name": "stdout",
     "output_type": "stream",
     "text": [
      "3\n"
     ]
    }
   ],
   "source": [
    "def calc(a, b):\n",
    "    c = a + b\n",
    "    print(c)\n",
    "\n",
    "calc(1,2) #今後使うことができない"
   ]
  },
  {
   "cell_type": "code",
   "execution_count": 10,
   "metadata": {},
   "outputs": [
    {
     "name": "stdout",
     "output_type": "stream",
     "text": [
      "3\n"
     ]
    }
   ],
   "source": [
    "def calc(a, b):\n",
    "    c = a + b\n",
    "    return c\n",
    "\n",
    "ans = calc(1, 2)\n",
    "print(ans) #今後使うことができる，（ansをつかうことができる．）"
   ]
  },
  {
   "cell_type": "markdown",
   "metadata": {},
   "source": [
    "## モジュールを使う\n",
    "P107"
   ]
  },
  {
   "cell_type": "code",
   "execution_count": 11,
   "metadata": {},
   "outputs": [
    {
     "name": "stdout",
     "output_type": "stream",
     "text": [
      "157\n",
      "166.0\n"
     ]
    }
   ],
   "source": [
    "from statistics import median\n",
    "\n",
    "monk_fish_team = [158, 157, 163, 157, 145]\n",
    "volleyball_team = [143, 167, 170, 165]\n",
    "print(median(monk_fish_team))\n",
    "print(median(volleyball_team))"
   ]
  },
  {
   "cell_type": "markdown",
   "metadata": {},
   "source": [
    "## ディクショナリ(辞書)を使う\n",
    "\n",
    "p.114"
   ]
  },
  {
   "cell_type": "code",
   "execution_count": 13,
   "metadata": {},
   "outputs": [
    {
     "name": "stdout",
     "output_type": "stream",
     "text": [
      "神奈川県\n",
      "れにちゃん\n"
     ]
    }
   ],
   "source": [
    "purple = {\n",
    "    \"ニックネーム\": \"れにちゃん\",\n",
    "    \"出身地\": \"神奈川県\",\n",
    "    \"キャッチフレーズ\": \"感電少女\"\n",
    "}\n",
    "print(purple[\"出身地\"])\n",
    "print(purple[\"ニックネーム\"])"
   ]
  },
  {
   "cell_type": "code",
   "execution_count": 14,
   "metadata": {},
   "outputs": [
    {
     "name": "stdout",
     "output_type": "stream",
     "text": [
      "キャッチフレーズ 感電少女\n",
      "生年月日 1993年6月21日\n",
      "出身地 神奈川県\n",
      "ニックネーム れにちゃん\n"
     ]
    }
   ],
   "source": [
    "purple = {\n",
    "    \"ニックネーム\": \"れにちゃん\",\n",
    "    \"出身地\": \"神奈川県\",\n",
    "    \"キャッチフレーズ\": \"感電少女\",\n",
    "    \"生年月日\": \"1993年6月21日\"\n",
    "}\n",
    "\n",
    "for key in purple:\n",
    "    print(key, purple[key])"
   ]
  },
  {
   "cell_type": "markdown",
   "metadata": {
    "collapsed": true
   },
   "source": [
    "## タプルを使う\n",
    "p.130"
   ]
  },
  {
   "cell_type": "code",
   "execution_count": 12,
   "metadata": {},
   "outputs": [
    {
     "data": {
      "text/plain": [
       "'December'"
      ]
     },
     "execution_count": 12,
     "metadata": {},
     "output_type": "execute_result"
    }
   ],
   "source": [
    "month_names = (\"January\", \"February\", \"March\", \"April\", \"May\", \"June\", \"July\")\n",
    "month_names = month_names + (\"August\", \"September\", \"October\", \"November\", \"December\")\n",
    "month_names[11]"
   ]
  },
  {
   "cell_type": "markdown",
   "metadata": {
    "collapsed": true
   },
   "source": [
    "## セブンアップ\n",
    "\n",
    "1. AさんとBさんは最初，お互いチップを21枚ずつ持っている\n",
    "2. 交互に2つのサイコロを振り，出た目の合計値が7だったら，チップが7枚増える\n",
    "3. 出た目の合計値が7以外だっったら．7との差の枚数のちっぷを捨てる．\n",
    "4. 先にチップが無くなった方が負け"
   ]
  },
  {
   "cell_type": "markdown",
   "metadata": {
    "collapsed": true
   },
   "source": [
    "まずは一人でゲームをしたときを考える．"
   ]
  },
  {
   "cell_type": "code",
   "execution_count": 4,
   "metadata": {},
   "outputs": [
    {
     "name": "stdout",
     "output_type": "stream",
     "text": [
      "チップの残りは， 17\n",
      "チップの残りは， 14\n",
      "チップの残りは， 13\n",
      "チップの残りは， 9\n",
      "チップの残りは， 8\n",
      "チップの残りは， 4\n",
      "チップの残りは， 2\n",
      "チップの残りは， 1\n",
      "チップの残りは， 0\n",
      "終了\n"
     ]
    }
   ],
   "source": [
    "from random import randint\n",
    "\n",
    "tips = 21\n",
    "\n",
    "while tips > 0:\n",
    "    dice = randint(1, 6) + randint(1, 6)\n",
    "    if dice == 7:\n",
    "        tips += 7\n",
    "    else:\n",
    "        tips -= abs(dice -7)\n",
    "    print(\"チップの残りは，\", tips)\n",
    "    \n",
    "print(\"終了\")"
   ]
  },
  {
   "cell_type": "markdown",
   "metadata": {},
   "source": [
    "2人で対戦をする．"
   ]
  },
  {
   "cell_type": "code",
   "execution_count": 8,
   "metadata": {},
   "outputs": [
    {
     "name": "stdout",
     "output_type": "stream",
     "text": [
      "aさんのチップは 28 枚, bさんのチップは 21 枚\n",
      "aさんのチップは 28 枚, bさんのチップは 28 枚\n",
      "aさんのチップは 24 枚, bさんのチップは 28 枚\n",
      "aさんのチップは 24 枚, bさんのチップは 27 枚\n",
      "aさんのチップは 21 枚, bさんのチップは 27 枚\n",
      "aさんのチップは 21 枚, bさんのチップは 26 枚\n",
      "aさんのチップは 19 枚, bさんのチップは 26 枚\n",
      "aさんのチップは 19 枚, bさんのチップは 24 枚\n",
      "aさんのチップは 18 枚, bさんのチップは 24 枚\n",
      "aさんのチップは 18 枚, bさんのチップは 23 枚\n",
      "aさんのチップは 15 枚, bさんのチップは 23 枚\n",
      "aさんのチップは 15 枚, bさんのチップは 20 枚\n",
      "aさんのチップは 13 枚, bさんのチップは 20 枚\n",
      "aさんのチップは 13 枚, bさんのチップは 16 枚\n",
      "aさんのチップは 12 枚, bさんのチップは 16 枚\n",
      "aさんのチップは 12 枚, bさんのチップは 15 枚\n",
      "aさんのチップは 8 枚, bさんのチップは 15 枚\n",
      "aさんのチップは 8 枚, bさんのチップは 11 枚\n",
      "aさんのチップは 3 枚, bさんのチップは 11 枚\n",
      "aさんのチップは 3 枚, bさんのチップは 6 枚\n",
      "aさんのチップは 2 枚, bさんのチップは 6 枚\n",
      "aさんのチップは 2 枚, bさんのチップは 3 枚\n",
      "aさんのチップは -1 枚, bさんのチップは 3 枚\n",
      "b さんの勝ち\n"
     ]
    }
   ],
   "source": [
    "from random import randint\n",
    "\n",
    "a_tips = 21\n",
    "b_tips = 21\n",
    "\n",
    "turn = \"a\"\n",
    "\n",
    "while a_tips > 0 and b_tips > 0:\n",
    "    if turn == \"a\":\n",
    "        dice = randint(1, 6) + randint(1, 6)\n",
    "        if dice == 7:\n",
    "            a_tips += 7\n",
    "        else:\n",
    "            a_tips -= abs(dice - 7)\n",
    "        turn = \"b\"\n",
    "    else:\n",
    "        dice = randint(1, 6) + randint(1, 6)\n",
    "        if dice == 7:\n",
    "            b_tips += 7\n",
    "        else:\n",
    "            b_tips -= abs(dice - 7)\n",
    "        turn = \"a\"\n",
    "    print(\"aさんのチップは\", a_tips, \"枚, bさんのチップは\", b_tips, \"枚\")\n",
    "        \n",
    "print(turn, \"さんの勝ち\")"
   ]
  },
  {
   "cell_type": "markdown",
   "metadata": {},
   "source": [
    "人数が増えても対応できるようにする．"
   ]
  },
  {
   "cell_type": "code",
   "execution_count": 30,
   "metadata": {},
   "outputs": [
    {
     "name": "stdout",
     "output_type": "stream",
     "text": [
      "[-1, 28, 0]\n",
      "B さんの勝ち\n"
     ]
    }
   ],
   "source": [
    "from random import randint\n",
    "PLAYER_COUNT = 3\n",
    "\n",
    "def next_turn(turn):\n",
    "    return (turn +1) % PLAYER_COUNT\n",
    "\n",
    "tips = [21 for _ in range(PLAYER_COUNT)]\n",
    "turn = 0\n",
    "\n",
    "while sum(1 for tip in tips if tip > 0) > 1 :\n",
    "    if tips[turn] < 0 :\n",
    "        turn = next_turn(turn)\n",
    "        continue\n",
    "    dice = randint(1, 6) + randint(1, 6)\n",
    "    if dice == 7:\n",
    "        tips[turn] += 7\n",
    "    else:\n",
    "        tips[turn] -= abs(dice - 7)\n",
    "    turn = next_turn(turn)\n",
    "    \n",
    "max_index = tips.index(max(tips))\n",
    "print(chr(ord(\"A\") + max_index), \"さんの勝ち\")"
   ]
  },
  {
   "cell_type": "markdown",
   "metadata": {},
   "source": [
    "## 自分でゲームを作る\n",
    "\n",
    "### 条件\n",
    "サイコロ，カード，コイン のどれか一つを使う\n",
    "> [例]  \n",
    "> 6面ダイスではなく，100面ダイスでもよい  \n",
    "> カードはトランプではなくても，花札でもよい  \n",
    "> コインは，金額が無くてもよい． "
   ]
  }
 ],
 "metadata": {
  "kernelspec": {
   "display_name": "Python [default]",
   "language": "python",
   "name": "python3"
  },
  "language_info": {
   "codemirror_mode": {
    "name": "ipython",
    "version": 3
   },
   "file_extension": ".py",
   "mimetype": "text/x-python",
   "name": "python",
   "nbconvert_exporter": "python",
   "pygments_lexer": "ipython3",
   "version": "3.5.4"
  }
 },
 "nbformat": 4,
 "nbformat_minor": 2
}
